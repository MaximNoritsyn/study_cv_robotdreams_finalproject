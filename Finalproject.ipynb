{
  "nbformat": 4,
  "nbformat_minor": 0,
  "metadata": {
    "colab": {
      "provenance": [],
      "toc_visible": true,
      "authorship_tag": "ABX9TyMZcBKovhvshUDdyAHZ2HJB"
    },
    "kernelspec": {
      "name": "python3",
      "display_name": "Python 3"
    },
    "language_info": {
      "name": "python"
    }
  },
  "cells": [
    {
      "cell_type": "markdown",
      "source": [
        "# Preparation"
      ],
      "metadata": {
        "id": "wpZ0KB4VoRNv"
      }
    },
    {
      "cell_type": "markdown",
      "source": [
        "### Import"
      ],
      "metadata": {
        "id": "Ua0F7Wf65JRe"
      }
    },
    {
      "cell_type": "code",
      "execution_count": 1,
      "metadata": {
        "id": "Zf04HjHhbkQZ"
      },
      "outputs": [],
      "source": [
        "import numpy as np\n",
        "import tensorflow as tf\n",
        "from tensorflow.keras.layers import Conv2D, Dense, Flatten, Input, MaxPooling2D\n",
        "from tensorflow.keras import Model"
      ]
    },
    {
      "cell_type": "markdown",
      "source": [
        "### Load DATA"
      ],
      "metadata": {
        "id": "Zh4N649E45YI"
      }
    },
    {
      "cell_type": "code",
      "source": [
        "def three_images_per_second(video_file, output_dir, fps):\n",
        "    cap = cv2.VideoCapture(video_file)\n",
        "    frame_num = 0\n",
        "    image_num = 0\n",
        "    while cap.isOpened():\n",
        "        ret, frame = cap.read()\n",
        "        if ret:\n",
        "            if frame_num % (fps // 3) == 0:\n",
        "                cv2.imwrite(output_dir+\"/image{}.jpg\".format(image_num),frame)\n",
        "                image_num += 1\n",
        "        else:\n",
        "            break\n",
        "        frame_num += 1\n",
        "\n",
        "    cap.release()\n",
        "    cv2.destroyAllWindows()\n",
        "    return"
      ],
      "metadata": {
        "id": "IXUs6N8o5bOC"
      },
      "execution_count": null,
      "outputs": []
    },
    {
      "cell_type": "code",
      "source": [
        "three_images_per_second('StreetCamera.mp4', 'StreetCamera', 100)"
      ],
      "metadata": {
        "id": "lAMz10CCUAyG"
      },
      "execution_count": null,
      "outputs": []
    },
    {
      "cell_type": "code",
      "source": [],
      "metadata": {
        "id": "9JHFCjB9UD3s"
      },
      "execution_count": null,
      "outputs": []
    }
  ]
}