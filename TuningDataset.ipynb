{
  "nbformat": 4,
  "nbformat_minor": 0,
  "metadata": {
    "colab": {
      "provenance": [],
      "authorship_tag": "ABX9TyPfxH2Gnazqvl4KcYHhpH9/"
    },
    "kernelspec": {
      "name": "python3",
      "display_name": "Python 3"
    },
    "language_info": {
      "name": "python"
    }
  },
  "cells": [
    {
      "cell_type": "code",
      "execution_count": 1,
      "metadata": {
        "id": "9a1j35b5AK6O"
      },
      "outputs": [],
      "source": [
        "import cv2\n",
        "import os\n",
        "from google.colab import drive"
      ]
    },
    {
      "cell_type": "code",
      "source": [
        "drive.mount(\"/content/drive/\")"
      ],
      "metadata": {
        "colab": {
          "base_uri": "https://localhost:8080/"
        },
        "id": "xsSuJQG5ARFb",
        "outputId": "ccc9cc0b-d824-4020-d70a-8ee44b9f08ce"
      },
      "execution_count": 3,
      "outputs": [
        {
          "output_type": "stream",
          "name": "stdout",
          "text": [
            "Mounted at /content/drive/\n"
          ]
        }
      ]
    },
    {
      "cell_type": "code",
      "source": [
        "folder_input = 'drive/MyDrive/Colab Notebooks/StreetCamera'\n",
        "folder_output = 'drive/MyDrive/Colab Notebooks/StreetCamera_X'\n",
        "for image_num in range(15100, 21554):\n",
        "  path_input = folder_input+\"/image{}.jpg\".format(image_num)\n",
        "  img = cv2.imread(path_input)\n",
        "  if img is not None:\n",
        "    img_output = cv2.resize(img, (640, 360))\n",
        "    path_output = folder_output+\"/image{}.jpg\".format(image_num)    \n",
        "    cv2.imwrite(path_output, img_output)"
      ],
      "metadata": {
        "id": "Z7uzu-oqAlNY"
      },
      "execution_count": 4,
      "outputs": []
    }
  ]
}