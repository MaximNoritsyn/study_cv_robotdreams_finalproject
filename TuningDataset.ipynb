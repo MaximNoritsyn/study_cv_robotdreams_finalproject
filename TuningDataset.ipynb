{
  "cells": [
    {
      "cell_type": "code",
      "execution_count": 13,
      "metadata": {
        "id": "9a1j35b5AK6O"
      },
      "outputs": [],
      "source": [
        "import cv2\n",
        "import numpy as np\n",
        "import os\n",
        "from google.colab import drive"
      ]
    },
    {
      "cell_type": "code",
      "execution_count": 14,
      "metadata": {
        "colab": {
          "base_uri": "https://localhost:8080/"
        },
        "id": "xsSuJQG5ARFb",
        "outputId": "e5030ddb-2618-4903-cb7b-ec5265782c92"
      },
      "outputs": [
        {
          "output_type": "stream",
          "name": "stdout",
          "text": [
            "Mounted at /content/drive/\n"
          ]
        }
      ],
      "source": [
        "drive.mount(\"/content/drive/\", force_remount=True)"
      ]
    },
    {
      "cell_type": "code",
      "execution_count": 15,
      "metadata": {
        "id": "qfnjxb4Izybo"
      },
      "outputs": [],
      "source": [
        "folder_input = 'drive/MyDrive/Colab Notebooks/StreetCamera'\n",
        "folder_output = 'drive/MyDrive/Colab Notebooks/StreetCamera_XX'"
      ]
    },
    {
      "cell_type": "code",
      "execution_count": null,
      "metadata": {
        "colab": {
          "background_save": true
        },
        "id": "Z7uzu-oqAlNY"
      },
      "outputs": [],
      "source": [
        "dataset = []\n",
        "\n",
        "for image_num in range(0, 21554):\n",
        "  path_input = folder_input+\"/image{}.jpg\".format(image_num)\n",
        "  img = cv2.imread(path_input)\n",
        "  if img is not None:\n",
        "    dataset.append(cv2.resize(img, (192, 112)))\n",
        "    #path_output = folder_output+\"/image{}.jpg\".format(image_num)    \n",
        "    #cv2.imwrite(path_output, img_output)\n",
        "\n",
        "dataset = np.array(dataset)\n",
        "\n",
        "with open('drive/MyDrive/Colab Notebooks/StreetCamera_Data_XX/dataset.npy', 'wb') as f:\n",
        "    np.save(f, dataset)"
      ]
    },
    {
      "cell_type": "code",
      "source": [
        "with open('drive/MyDrive/Colab Notebooks/StreetCamera_Data_XX/dataset.npy', 'rb') as f:\n",
        "    dataset = np.load(f)"
      ],
      "metadata": {
        "id": "B8k32I89FE4E"
      },
      "execution_count": 20,
      "outputs": []
    },
    {
      "cell_type": "code",
      "source": [
        "train_dataset = []\n",
        "test_dataset = []\n",
        "\n",
        "for image_num in range(0,len(dataset),50): \n",
        "  train_dataset.append(dataset[image_num])\n",
        "\n",
        "for image_num in range(1,len(dataset),150): \n",
        "  test_dataset.append(dataset[image_num])\n",
        "\n",
        "train_dataset = np.array(train_dataset)\n",
        "test_dataset = np.array(test_dataset)\n",
        "\n",
        "with open('drive/MyDrive/Colab Notebooks/StreetCamera_Data_XX/train_dataset_small.npy', 'wb') as f:\n",
        "    np.save(f, train_dataset)\n",
        "\n",
        "with open('drive/MyDrive/Colab Notebooks/StreetCamera_Data_XX/test_dataset_small.npy', 'wb') as f:\n",
        "    np.save(f, test_dataset)"
      ],
      "metadata": {
        "id": "OBdPLEQMA61u"
      },
      "execution_count": 27,
      "outputs": []
    },
    {
      "cell_type": "code",
      "source": [
        "print('Train set:   ', len(train_dataset), 'samples')\n",
        "print('Test set:    ', len(test_dataset), 'samples')\n",
        "print('Sample dims: ', train_dataset.shape)"
      ],
      "metadata": {
        "colab": {
          "base_uri": "https://localhost:8080/"
        },
        "id": "10dMyayrSTM7",
        "outputId": "a6114cb7-eb0b-4a44-88e2-e47f4b5cc880"
      },
      "execution_count": 28,
      "outputs": [
        {
          "output_type": "stream",
          "name": "stdout",
          "text": [
            "Train set:    432 samples\n",
            "Test set:     144 samples\n",
            "Sample dims:  (432, 112, 192, 3)\n"
          ]
        }
      ]
    },
    {
      "cell_type": "code",
      "execution_count": null,
      "metadata": {
        "id": "ty8fAC9oMeWd"
      },
      "outputs": [],
      "source": [
        "#get name of image with index\n",
        "def file_name(image_num):\n",
        "  return \"image{}.jpg\".format(image_num)\n",
        "\n",
        "#get full path of image with index\n",
        "def file_path(image_num):\n",
        "  folder = 'drive/MyDrive/Colab Notebooks/StreetCamera_XX'\n",
        "  return os.path.join(folder,file_name(image_num))"
      ]
    },
    {
      "cell_type": "code",
      "execution_count": null,
      "metadata": {
        "id": "Zpk2m_OKLwYn"
      },
      "outputs": [],
      "source": [
        "# Load data from the folder\n",
        "train_dataset = []\n",
        "test_dataset = []\n",
        "for image_num in range(0,21553,5): #we will take not all data for the first time\n",
        "  img = cv2.imread(file_path(image_num))\n",
        "  if img is not None:\n",
        "    train_dataset.append(img)\n",
        "\n",
        "for image_num in range(1,21554,15): #this way be another data\n",
        "  img = cv2.imread(file_path(image_num))\n",
        "  if img is not None:\n",
        "    test_dataset.append(img)\n",
        "\n",
        "train_dataset = np.array(train_dataset)\n",
        "test_dataset = np.array(test_dataset)\n",
        "\n",
        "with open('drive/MyDrive/Colab Notebooks/StreetCamera_Data_X/train_dataset.npy', 'wb') as f:\n",
        "    np.save(f, train_dataset)\n",
        "\n",
        "with open('drive/MyDrive/Colab Notebooks/StreetCamera_Data_X/test_dataset.npy', 'wb') as f:\n",
        "    np.save(f, test_dataset)"
      ]
    },
    {
      "cell_type": "code",
      "execution_count": null,
      "metadata": {
        "id": "kws0wKgYOJPZ"
      },
      "outputs": [],
      "source": [
        "with open('drive/MyDrive/Colab Notebooks/StreetCamera_Data_X/train_dataset.npy', 'rb') as f:\n",
        "    x_train = np.load(f)\n",
        "\n",
        "with open('drive/MyDrive/Colab Notebooks/StreetCamera_Data_X/test_dataset.npy', 'rb') as f:\n",
        "    X_test = np.load(f)"
      ]
    },
    {
      "cell_type": "code",
      "execution_count": null,
      "metadata": {
        "id": "-WC9-qssObPj"
      },
      "outputs": [],
      "source": [
        "print('Train set:   ', len(x_train), 'samples')\n",
        "print('Test set:    ', len(X_test), 'samples')\n",
        "print('Sample dims: ', x_train.shape)"
      ]
    }
  ],
  "metadata": {
    "colab": {
      "provenance": [],
      "authorship_tag": "ABX9TyN0zJlJTOSGt4yp9sSBVZax"
    },
    "kernelspec": {
      "display_name": "Python 3",
      "name": "python3"
    },
    "language_info": {
      "name": "python"
    }
  },
  "nbformat": 4,
  "nbformat_minor": 0
}