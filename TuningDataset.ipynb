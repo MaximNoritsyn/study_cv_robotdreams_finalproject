{
  "cells": [
    {
      "cell_type": "code",
      "execution_count": 1,
      "metadata": {
        "id": "9a1j35b5AK6O"
      },
      "outputs": [],
      "source": [
        "import cv2\n",
        "import numpy as np\n",
        "import os\n",
        "from google.colab import drive"
      ]
    },
    {
      "cell_type": "code",
      "execution_count": 2,
      "metadata": {
        "colab": {
          "base_uri": "https://localhost:8080/"
        },
        "id": "xsSuJQG5ARFb",
        "outputId": "b6250e8c-c97f-4aef-aa53-fc254957a4d6"
      },
      "outputs": [
        {
          "output_type": "stream",
          "name": "stdout",
          "text": [
            "Drive already mounted at /content/drive/; to attempt to forcibly remount, call drive.mount(\"/content/drive/\", force_remount=True).\n"
          ]
        }
      ],
      "source": [
        "drive.mount(\"/content/drive/\")"
      ]
    },
    {
      "cell_type": "code",
      "execution_count": null,
      "metadata": {
        "colab": {
          "background_save": true
        },
        "id": "Z7uzu-oqAlNY"
      },
      "outputs": [],
      "source": [
        "folder_input = 'drive/MyDrive/Colab Notebooks/StreetCamera'\n",
        "folder_output = 'drive/MyDrive/Colab Notebooks/StreetCamera_XX'\n",
        "for image_num in range(0, 21554):\n",
        "  path_input = folder_input+\"/image{}.jpg\".format(image_num)\n",
        "  img = cv2.imread(path_input)\n",
        "  if img is not None:\n",
        "    img_output = cv2.resize(img, (192, 108))\n",
        "    path_output = folder_output+\"/image{}.jpg\".format(image_num)    \n",
        "    cv2.imwrite(path_output, img_output)"
      ]
    },
    {
      "cell_type": "code",
      "source": [
        "#get name of image with index\n",
        "def file_name(image_num):\n",
        "  return \"image{}.jpg\".format(image_num)\n",
        "\n",
        "#get full path of image with index\n",
        "def file_path(image_num):\n",
        "  folder = 'drive/MyDrive/Colab Notebooks/StreetCamera_XX'\n",
        "  return os.path.join(folder,file_name(image_num))"
      ],
      "metadata": {
        "id": "ty8fAC9oMeWd"
      },
      "execution_count": 3,
      "outputs": []
    },
    {
      "cell_type": "code",
      "source": [
        "# Load data from the folder\n",
        "train_dataset = []\n",
        "test_dataset = []\n",
        "for image_num in range(0,21553,4): #we will take not all data for the first time\n",
        "  img = cv2.imread(file_path(image_num))\n",
        "  if img is not None:\n",
        "    train_dataset.append(img)\n",
        "\n",
        "for image_num in range(1,21554,16): #this way be another data\n",
        "  img = cv2.imread(file_path(image_num))\n",
        "  if img is not None:\n",
        "    test_dataset.append(img)\n",
        "\n",
        "train_dataset = np.array(train_dataset)\n",
        "test_dataset = np.array(test_dataset)\n",
        "\n",
        "with open('drive/MyDrive/Colab Notebooks/train_dataset.npy', 'wb') as f:\n",
        "    np.save(f, train_dataset)\n",
        "\n",
        "with open('drive/MyDrive/Colab Notebooks/test_dataset.npy', 'wb') as f:\n",
        "    np.save(f, test_dataset)"
      ],
      "metadata": {
        "id": "Zpk2m_OKLwYn"
      },
      "execution_count": 4,
      "outputs": []
    },
    {
      "cell_type": "code",
      "source": [
        "with open('drive/MyDrive/Colab Notebooks/train_dataset.npy', 'rb') as f:\n",
        "    x_train = np.load(f)\n",
        "\n",
        "with open('drive/MyDrive/Colab Notebooks/test_dataset.npy', 'rb') as f:\n",
        "    X_test = np.load(f)"
      ],
      "metadata": {
        "id": "kws0wKgYOJPZ"
      },
      "execution_count": 5,
      "outputs": []
    },
    {
      "cell_type": "code",
      "source": [
        "print('Train set:   ', len(train_dataset), 'samples')\n",
        "print('Test set:    ', len(test_dataset), 'samples')\n",
        "print('Sample dims: ', train_dataset.shape)"
      ],
      "metadata": {
        "colab": {
          "base_uri": "https://localhost:8080/"
        },
        "id": "-WC9-qssObPj",
        "outputId": "01799e37-d502-4293-fc83-a7aa291d14c4"
      },
      "execution_count": 6,
      "outputs": [
        {
          "output_type": "stream",
          "name": "stdout",
          "text": [
            "Train set:    5389 samples\n",
            "Test set:     1348 samples\n",
            "Sample dims:  (5389, 108, 192, 3)\n"
          ]
        }
      ]
    }
  ],
  "metadata": {
    "colab": {
      "provenance": [],
      "authorship_tag": "ABX9TyP29TyOyHtFMqo34cKfAOdk"
    },
    "kernelspec": {
      "display_name": "Python 3",
      "name": "python3"
    },
    "language_info": {
      "name": "python"
    }
  },
  "nbformat": 4,
  "nbformat_minor": 0
}