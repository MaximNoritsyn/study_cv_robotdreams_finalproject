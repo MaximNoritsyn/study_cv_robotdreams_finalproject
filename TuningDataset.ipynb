{
  "cells": [
    {
      "cell_type": "code",
      "execution_count": 5,
      "metadata": {
        "id": "9a1j35b5AK6O"
      },
      "outputs": [],
      "source": [
        "import cv2\n",
        "import numpy as np\n",
        "import os\n",
        "from google.colab import drive"
      ]
    },
    {
      "cell_type": "code",
      "execution_count": 6,
      "metadata": {
        "colab": {
          "base_uri": "https://localhost:8080/"
        },
        "id": "xsSuJQG5ARFb",
        "outputId": "6e2f7fe4-dbb7-4646-92fc-d63422f290dd"
      },
      "outputs": [
        {
          "output_type": "stream",
          "name": "stdout",
          "text": [
            "Mounted at /content/drive/\n"
          ]
        }
      ],
      "source": [
        "drive.mount(\"/content/drive/\", force_remount=True)"
      ]
    },
    {
      "cell_type": "markdown",
      "source": [
        "#StreetCamera"
      ],
      "metadata": {
        "id": "CN5zfHwEm_IZ"
      }
    },
    {
      "cell_type": "markdown",
      "source": [
        "## Create dataset from folder of images"
      ],
      "metadata": {
        "id": "ztsSQqnpjnzc"
      }
    },
    {
      "cell_type": "code",
      "execution_count": null,
      "metadata": {
        "id": "qfnjxb4Izybo"
      },
      "outputs": [],
      "source": [
        "folder_input = 'drive/MyDrive/Colab Notebooks/StreetCamera'\n",
        "folder_output = 'drive/MyDrive/Colab Notebooks/StreetCamera_XX'"
      ]
    },
    {
      "cell_type": "code",
      "execution_count": null,
      "metadata": {
        "colab": {
          "background_save": true
        },
        "id": "Z7uzu-oqAlNY"
      },
      "outputs": [],
      "source": [
        "dataset = []\n",
        "\n",
        "for image_num in range(0, 21554):\n",
        "  path_input = folder_input+\"/image{}.jpg\".format(image_num)\n",
        "  img = cv2.imread(path_input)\n",
        "  if img is not None:\n",
        "    dataset.append(cv2.resize(img, (192, 128)))\n",
        "\n",
        "dataset = np.array(dataset)\n",
        "\n",
        "with open('drive/MyDrive/Colab Notebooks/StreetCamera_Data_XX/dataset.npy', 'wb') as f:\n",
        "    np.save(f, dataset)"
      ]
    },
    {
      "cell_type": "code",
      "execution_count": 7,
      "metadata": {
        "id": "B8k32I89FE4E"
      },
      "outputs": [],
      "source": [
        "##load dataset after creating\n",
        "with open('drive/MyDrive/Colab Notebooks/StreetCamera_Data_XX/dataset.npy', 'rb') as f:\n",
        "    dataset = np.load(f)"
      ]
    },
    {
      "cell_type": "markdown",
      "source": [
        "##Separate to small dataset for experiments"
      ],
      "metadata": {
        "id": "KEfPD41Xj485"
      }
    },
    {
      "cell_type": "code",
      "execution_count": null,
      "metadata": {
        "colab": {
          "background_save": true
        },
        "id": "OBdPLEQMA61u"
      },
      "outputs": [],
      "source": [
        "train_dataset = []\n",
        "test_dataset = []\n",
        "\n",
        "for image_num in range(0,len(dataset),50): \n",
        "  train_dataset.append(dataset[image_num])\n",
        "\n",
        "for image_num in range(1,len(dataset),150): \n",
        "  test_dataset.append(dataset[image_num])\n",
        "\n",
        "train_dataset = np.array(train_dataset)\n",
        "test_dataset = np.array(test_dataset)\n",
        "\n",
        "with open('drive/MyDrive/Colab Notebooks/StreetCamera_Data_XX/train_dataset_small.npy', 'wb') as f:\n",
        "    np.save(f, train_dataset)\n",
        "\n",
        "with open('drive/MyDrive/Colab Notebooks/StreetCamera_Data_XX/test_dataset_small.npy', 'wb') as f:\n",
        "    np.save(f, test_dataset)"
      ]
    },
    {
      "cell_type": "code",
      "execution_count": null,
      "metadata": {
        "colab": {
          "background_save": true
        },
        "id": "10dMyayrSTM7",
        "outputId": "843a6b1f-f6d5-44f3-9bf5-3aca7503ee8d"
      },
      "outputs": [
        {
          "name": "stdout",
          "output_type": "stream",
          "text": [
            "Train set:    432 samples\n",
            "Test set:     144 samples\n",
            "Sample dims:  (432, 128, 192, 3)\n"
          ]
        }
      ],
      "source": [
        "print('Train set:   ', len(train_dataset), 'samples')\n",
        "print('Test set:    ', len(test_dataset), 'samples')\n",
        "print('Sample dims: ', train_dataset.shape)"
      ]
    },
    {
      "cell_type": "markdown",
      "source": [
        "## Separate dataset for final fit"
      ],
      "metadata": {
        "id": "ebqjYHZZkBG0"
      }
    },
    {
      "cell_type": "code",
      "execution_count": 8,
      "metadata": {
        "id": "oB1WbQVqgq4n"
      },
      "outputs": [],
      "source": [
        "train_dataset = []\n",
        "test_dataset = []\n",
        "\n",
        "for image_num in range(0,len(dataset)):\n",
        "  if image_num % 5 == 0: \n",
        "    test_dataset.append(dataset[image_num])\n",
        "  elif image_num % 2 == 0:\n",
        "    train_dataset.append(dataset[image_num])\n",
        "\n",
        "train_dataset = np.array(train_dataset)\n",
        "test_dataset = np.array(test_dataset)\n",
        "\n",
        "with open('drive/MyDrive/Colab Notebooks/StreetCamera_Data_XX/train_dataset.npy', 'wb') as f:\n",
        "    np.save(f, train_dataset)\n",
        "\n",
        "with open('drive/MyDrive/Colab Notebooks/StreetCamera_Data_XX/test_dataset.npy', 'wb') as f:\n",
        "    np.save(f, test_dataset)"
      ]
    },
    {
      "cell_type": "code",
      "execution_count": null,
      "metadata": {
        "id": "ty8fAC9oMeWd"
      },
      "outputs": [],
      "source": [
        "#get name of image with index\n",
        "def file_name(image_num):\n",
        "  return \"image{}.jpg\".format(image_num)\n",
        "\n",
        "#get full path of image with index\n",
        "def file_path(image_num):\n",
        "  folder = 'drive/MyDrive/Colab Notebooks/StreetCamera_XX'\n",
        "  return os.path.join(folder,file_name(image_num))"
      ]
    },
    {
      "cell_type": "markdown",
      "source": [
        "#TimesSquare"
      ],
      "metadata": {
        "id": "iOTsjdlqm4wK"
      }
    },
    {
      "cell_type": "markdown",
      "source": [
        "##Video2Img"
      ],
      "metadata": {
        "id": "PpJ2AKkFw6rl"
      }
    },
    {
      "cell_type": "code",
      "source": [
        "dataset = []\n",
        "cap = cv2.VideoCapture('drive/MyDrive/Colab Notebooks/TimesSquere_mini.mp4')\n",
        "frame_num = 0\n",
        "image_num = 0\n",
        "while cap.isOpened():\n",
        "    ret, frame = cap.read()\n",
        "    if ret:\n",
        "        if frame_num % (200 // 3) == 0:\n",
        "            dataset.append(cv2.resize(frame, (192, 128)))\n",
        "            image_num += 1\n",
        "    else:\n",
        "        break\n",
        "    frame_num += 1\n",
        "\n",
        "dataset = np.array(dataset)\n",
        "\n",
        "with open('drive/MyDrive/Colab Notebooks/TimesSquere/dataset.npy', 'wb') as f:\n",
        "  np.save(f, dataset)\n",
        "cap.release()\n",
        "cv2.destroyAllWindows()"
      ],
      "metadata": {
        "id": "O2Bo6DOMxIXe"
      },
      "execution_count": 22,
      "outputs": []
    },
    {
      "cell_type": "code",
      "source": [
        "print('Sample dims: ', dataset.shape)"
      ],
      "metadata": {
        "colab": {
          "base_uri": "https://localhost:8080/"
        },
        "id": "Zr6R-tA69-Q7",
        "outputId": "30b99e59-9a6b-4a80-d82a-ac15251a208e"
      },
      "execution_count": 23,
      "outputs": [
        {
          "metadata": {
            "tags": null
          },
          "name": "stdout",
          "output_type": "stream",
          "text": [
            "Sample dims:  (19500, 128, 192, 3)\n"
          ]
        }
      ]
    },
    {
      "cell_type": "markdown",
      "source": [
        "##Separate to dataset for fit"
      ],
      "metadata": {
        "id": "87XWTYujnVD6"
      }
    },
    {
      "cell_type": "code",
      "source": [
        "train_dataset = []\n",
        "test_dataset = []\n",
        "\n",
        "for image_num in range(0,len(dataset)):\n",
        "  if image_num % 3 == 0:  \n",
        "    test_dataset.append(img)\n",
        "  else: \n",
        "    train_dataset.append(img)\n",
        "\n",
        "train_dataset = np.array(train_dataset)\n",
        "test_dataset = np.array(test_dataset)\n",
        "\n",
        "with open('drive/MyDrive/Colab Notebooks/TimesSquere/train_dataset.npy', 'wb') as f:\n",
        "    np.save(f, train_dataset)\n",
        "\n",
        "with open('drive/MyDrive/Colab Notebooks/TimesSquere/test_dataset.npy', 'wb') as f:\n",
        "    np.save(f, test_dataset)"
      ],
      "metadata": {
        "id": "nK7j5xPh-R4p"
      },
      "execution_count": 29,
      "outputs": []
    },
    {
      "cell_type": "code",
      "source": [
        "print('Train sample dims: ', train_dataset.shape)\n",
        "print('Test sample dims: ', test_dataset.shape)"
      ],
      "metadata": {
        "colab": {
          "base_uri": "https://localhost:8080/"
        },
        "id": "6P4v8C6gGWZ5",
        "outputId": "b6522d4b-4f9a-4ff3-fcb5-8e1b67ebdb91"
      },
      "execution_count": 25,
      "outputs": [
        {
          "output_type": "stream",
          "name": "stdout",
          "text": [
            "Train sample dims:  (13000, 128, 192, 3)\n",
            "Test sample dims:  (6500, 128, 192, 3)\n"
          ]
        }
      ]
    },
    {
      "cell_type": "code",
      "source": [
        "#Separate to small dataset for experiments\n",
        "\n",
        "train_dataset = []\n",
        "test_dataset = []\n",
        "\n",
        "for image_num in range(0,len(dataset),50): \n",
        "  train_dataset.append(dataset[image_num])\n",
        "\n",
        "for image_num in range(1,len(dataset),150): \n",
        "  test_dataset.append(dataset[image_num])\n",
        "\n",
        "train_dataset = np.array(train_dataset)\n",
        "test_dataset = np.array(test_dataset)\n",
        "\n",
        "with open('drive/MyDrive/Colab Notebooks/TimesSquere/train_dataset_small.npy', 'wb') as f:\n",
        "    np.save(f, train_dataset)\n",
        "\n",
        "with open('drive/MyDrive/Colab Notebooks/TimesSquere/test_dataset_small.npy', 'wb') as f:\n",
        "    np.save(f, test_dataset)"
      ],
      "metadata": {
        "id": "9nDY7mMCI3tN"
      },
      "execution_count": 28,
      "outputs": []
    },
    {
      "cell_type": "markdown",
      "source": [
        "#Resize Monolisa"
      ],
      "metadata": {
        "id": "KbKl8CbInfUd"
      }
    },
    {
      "cell_type": "code",
      "source": [
        "img = cv2.imread('drive/MyDrive/Colab Notebooks/StreetCamera_Data_XX/monolisa.jpg')\n",
        "if img is not None:\n",
        "  cv2.imwrite('drive/MyDrive/Colab Notebooks/StreetCamera_Data_XX/monolisa.jpg', cv2.resize(img, (192, 128)))"
      ],
      "metadata": {
        "id": "g0c1xKTZkM02"
      },
      "execution_count": null,
      "outputs": []
    }
  ],
  "metadata": {
    "colab": {
      "provenance": [],
      "toc_visible": true,
      "authorship_tag": "ABX9TyN0ro16Bd8cszHJIOcNEolx"
    },
    "kernelspec": {
      "display_name": "Python 3",
      "name": "python3"
    },
    "language_info": {
      "name": "python"
    }
  },
  "nbformat": 4,
  "nbformat_minor": 0
}